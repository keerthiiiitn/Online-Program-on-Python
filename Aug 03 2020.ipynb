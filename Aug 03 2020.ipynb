{
 "cells": [
  {
   "cell_type": "markdown",
   "metadata": {},
   "source": [
    "# Heading1\n",
    "## Heading2\n",
    "### Heading3\n",
    "#### Heading4\n",
    "##### Heading5\n",
    "###### Heading6"
   ]
  },
  {
   "cell_type": "markdown",
   "metadata": {},
   "source": [
    "**Python Programming**"
   ]
  },
  {
   "cell_type": "markdown",
   "metadata": {},
   "source": [
    "*Italic*"
   ]
  },
  {
   "cell_type": "markdown",
   "metadata": {},
   "source": [
    "* Normal Text\n",
    "    * sublist1\n",
    "    * sublist2\n",
    "    * sublist3"
   ]
  },
  {
   "cell_type": "markdown",
   "metadata": {},
   "source": [
    "1. ordered list element1\n",
    "2. ordered list element2"
   ]
  },
  {
   "cell_type": "markdown",
   "metadata": {},
   "source": [
    "a. python1\n",
    "\n",
    "b. python2"
   ]
  },
  {
   "cell_type": "markdown",
   "metadata": {},
   "source": [
    "I. PYTHON\n",
    "\n",
    "II. PYTHON"
   ]
  },
  {
   "cell_type": "markdown",
   "metadata": {},
   "source": [
    "## What is python?\n",
    "\n",
    "- Python is a simeple, general purpose, interpreted, high level and object-oriented programming language.\n",
    "- Python is developed by Guido Van Rossum.\n",
    "- Guido Van Rossum started implementing python in 1989, and released in 1991.\n",
    "\n",
    "## Python Features\n",
    "1. Easy to Learn and Use\n",
    "2. Interpreted Language\n",
    "3. Fress and Open Source\n",
    "4. Expressive Language - Means understandable and readable\n",
    "5. Object Oriented\n",
    "6. Cross-Platform Language\n",
    "7. Extensible\n",
    "8. Integreted\n",
    "9. GUI Programming Support\n",
    "10. Large Standard Library\n",
    "\n",
    "## Python Applications\n",
    "\n",
    "- Web applications(Google, YouTube, Instagram, Drap Box...etc.)\n",
    "- Game Development\n",
    "- GUI based applications\n",
    "- Data Science\n",
    "- Scientific Computing\n",
    "- Multimedia\n",
    "- Machine Learning\n",
    "- Artificial Intelligence"
   ]
  },
  {
   "cell_type": "code",
   "execution_count": null,
   "metadata": {},
   "outputs": [],
   "source": []
  }
 ],
 "metadata": {
  "kernelspec": {
   "display_name": "Python 3",
   "language": "python",
   "name": "python3"
  },
  "language_info": {
   "codemirror_mode": {
    "name": "ipython",
    "version": 3
   },
   "file_extension": ".py",
   "mimetype": "text/x-python",
   "name": "python",
   "nbconvert_exporter": "python",
   "pygments_lexer": "ipython3",
   "version": "3.8.3"
  }
 },
 "nbformat": 4,
 "nbformat_minor": 4
}
